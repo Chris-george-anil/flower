{
  "nbformat": 4,
  "nbformat_minor": 2,
  "metadata": {
    "colab": {
      "name": "flower.ipynb",
      "provenance": [],
      "collapsed_sections": []
    },
    "kernelspec": {
      "name": "python3",
      "display_name": "Python 3"
    },
    "language_info": {
      "name": "python"
    }
  },
  "cells": [
    {
      "cell_type": "markdown",
      "source": [
        "# Flower Quickstart (Simulation with TensorFlow/Keras)\n",
        "\n",
        "Welcome to Flower, a friendly federated learning framework!\n",
        "\n",
        "In this notebook, we'll simulate a federated learning system with 100 clients. The clients will use TensorFlow/Keras to define model training and evaluation. Let's start by installing Flower Nightly, published as `flwr-nightly` on PyPI:"
      ],
      "metadata": {
        "id": "rhgpM92PMCd-"
      }
    },
    {
      "cell_type": "code",
      "execution_count": null,
      "source": [
        "!pip install -U flwr-nightly[simulation]  # For the latest flwr-nightly release\n",
        "# !pip install -U flwr[simulation]  # Once 0.17 is released\n",
        "# !pip install git+https://github.com/adap/flower.git@branchname#egg=flwr[simulation]  # For a specific branch"
      ],
      "outputs": [],
      "metadata": {
        "colab": {
          "base_uri": "https://localhost:8080/"
        },
        "id": "BXG21C3dLj6i",
        "outputId": "f60586a0-3fc5-4801-919d-01977224a39b"
      }
    },
    {
      "cell_type": "markdown",
      "source": [
        "Next, we import the required dependencies:"
      ],
      "metadata": {
        "id": "tQk9ZzCBMf9r"
      }
    },
    {
      "cell_type": "code",
      "execution_count": 2,
      "source": [
        "import os\n",
        "import math\n",
        "\n",
        "# Make TensorFlow logs less verbose\n",
        "os.environ[\"TF_CPP_MIN_LOG_LEVEL\"] = \"3\"\n",
        "\n",
        "import flwr as fl\n",
        "import tensorflow as tf"
      ],
      "outputs": [],
      "metadata": {
        "id": "oKvjox6uMkhj"
      }
    },
    {
      "cell_type": "markdown",
      "source": [
        "With the boring parts out of the way, let's move on to the interesting bits. Flower federates existing machine learning projects by implementing subclasses of `flwr.client.NumPyClient`."
      ],
      "metadata": {
        "id": "30pJWfaTM_MC"
      }
    },
    {
      "cell_type": "code",
      "execution_count": 3,
      "source": [
        "class FlwrClient(fl.client.NumPyClient):\n",
        "    def __init__(self, model, x_train, y_train) -> None:\n",
        "        super().__init__()\n",
        "        self.model = model\n",
        "        split_idx = math.floor(len(x_train) * 0.9)  # Use 10% of x_train for validation\n",
        "        self.x_train, self.y_train = x_train[:split_idx], y_train[:split_idx]\n",
        "        self.x_val, self.y_val = x_train[split_idx:], y_train[split_idx:]\n",
        "\n",
        "    def get_parameters(self):\n",
        "        return self.model.get_weights()\n",
        "\n",
        "    def fit(self, parameters, config):\n",
        "        self.model.set_weights(parameters)\n",
        "        self.model.fit(self.x_train, self.y_train, epochs=2, verbose=2)\n",
        "        return self.model.get_weights(), len(self.x_train), {}\n",
        "\n",
        "    def evaluate(self, parameters, config):\n",
        "        self.model.set_weights(parameters)\n",
        "        loss, acc = self.model.evaluate(self.x_val, self.y_val, verbose=2)\n",
        "        return loss, len(self.x_val), {\"accuracy\": acc}"
      ],
      "outputs": [],
      "metadata": {
        "id": "vE3mqBs0NHZi"
      }
    },
    {
      "cell_type": "markdown",
      "source": [
        "The class `FlwrClient` provides methods such as `fit` and `evaluate`. An instance of `FlwrClient` represents a **single client** in your federated learning system. Federated learning systems have multiple clients (otherwise there's not much to federate, is there?). Each client will be represented by its own instance of `FlwrClient`. If you have, for example, three clients in your workload, you'd have three instances of `FlwrClient`. Flower calls `FlwrClient.fit` on the respective instance when the server selects a particular client for training (and `FlwrClient.evaluate` for evaluation)."
      ],
      "metadata": {
        "id": "rNtv054SNqOq"
      }
    },
    {
      "cell_type": "code",
      "execution_count": 4,
      "source": [
        "def client_fn(cid: str) -> fl.client.Client:\n",
        "    # Load model\n",
        "    model = tf.keras.models.Sequential(\n",
        "        [\n",
        "            tf.keras.layers.Flatten(input_shape=(28, 28)),\n",
        "            tf.keras.layers.Dense(128, activation=\"relu\"),\n",
        "            tf.keras.layers.Dropout(0.2),\n",
        "            tf.keras.layers.Dense(10, activation=\"softmax\"),\n",
        "        ]\n",
        "    )\n",
        "    model.compile(\"adam\", \"sparse_categorical_crossentropy\", metrics=[\"accuracy\"])\n",
        "\n",
        "    # Load data partition (divide MNIST into NUM_CLIENTS distinct partitions)\n",
        "    (x_train, y_train), _ = tf.keras.datasets.mnist.load_data()\n",
        "    partition_size = math.floor(len(x_train) / NUM_CLIENTS)\n",
        "    idx_from, idx_to = int(cid) * partition_size, (int(cid) + 1) * partition_size\n",
        "    x_train_cid = x_train[idx_from:idx_to] / 255.0\n",
        "    y_train_cid = y_train[idx_from:idx_to]\n",
        "\n",
        "    # Create and return client\n",
        "    return FlwrClient(model, x_train_cid, y_train_cid)"
      ],
      "outputs": [],
      "metadata": {
        "id": "OtlBA2OFO0tf"
      }
    },
    {
      "cell_type": "markdown",
      "source": [
        "The last step is to start the actual simulation."
      ],
      "metadata": {
        "id": "6SVawWSgO48Q"
      }
    },
    {
      "cell_type": "code",
      "execution_count": null,
      "source": [
        "NUM_CLIENTS = 100\n",
        "\n",
        "# Create FedAvg strategy\n",
        "strategy=fl.server.strategy.FedAvg(\n",
        "        fraction_fit=0.1,  # Sample 10% of available clients for training\n",
        "        fraction_eval=0.05,  # Sample 5% of available clients for evaluation\n",
        "        min_fit_clients=10,  # Never sample less than 10 clients for training\n",
        "        min_eval_clients=10,  # Never sample less than 5 clients for evaluation\n",
        "        min_available_clients=int(NUM_CLIENTS * 0.75),  # Wait until at least 75 clients are \n",
        ")\n",
        "\n",
        "# Start simulation\n",
        "fl.simulation.start_simulation(\n",
        "    client_fn=client_fn,\n",
        "    num_clients=NUM_CLIENTS,\n",
        "    num_rounds=5,\n",
        "    strategy=strategy,\n",
        ")"
      ],
      "outputs": [],
      "metadata": {
        "colab": {
          "base_uri": "https://localhost:8080/"
        },
        "id": "0Yxjysu5PM-A",
        "outputId": "cf5f1bab-0d94-4876-bd6a-cdb0652826ff"
      }
    }
  ]
}